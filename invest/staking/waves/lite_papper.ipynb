{
 "cells": [
  {
   "cell_type": "markdown",
   "id": "5408864a-0c65-44fa-a86c-02a9bb83c772",
   "metadata": {
    "tags": []
   },
   "source": [
    "![PepeTeam](https://pepe.team/favicon.ico)\n",
    "# **sWAVES** litepaper\n",
    "###### powered by PepeTeam (@pepenger)"
   ]
  },
  {
   "cell_type": "markdown",
   "id": "65abedbb",
   "metadata": {},
   "source": [
    "## Introduction\n",
    "\n",
    "###### Disclaimer\n",
    "\n",
    ">This paper is for general information purposes only. It does not constitute investment advice, recommendation or solicitation to buy or sell any investment products and should not be used in the evaluation of the merits of making any investment decisions. It should not be relied upon for accounting, legal or tax advice or investment recommendations.\n",
    "\n",
    "**(TODO: begin with Blockchain in general)** Several types of Blockchain consensus were invented. The two most popular are Proof of Work ([PoW](https://en.wikipedia.org/wiki/Proof_of_work)) and Proof of Stake ([PoS](https://en.wikipedia.org/wiki/Proof_of_stake)). The PoS consensus algorithm becomes more common and mass adopted due to its low energy consumption and charcoal pollution, minimum calculation resources needed (compared with PoW) etc. The Proof of Stake consensus is based on locking its associated cryptocurrency (ETH in Ethereum blockchain, WAVES in Waves blockchain) and selecting block validators in proportion to their quantity of holdings. People who locked their crypto currency in Proof of Stake mechanism are trying to achieve a couple of goals. The first one is to support blockchain stability and sustainability. The second goal is to make profits from newly generated cryptocurrency as a reward per block and also gain an additional interest from transaction fees included in a validated block.\n",
    "\n",
    "A mechanism of locking cryptocurrency to blockchain node validators is usually described by its consensus algorithm and often requires additional conditions in order to staking being available for users. For example that could be a minimum limit required for being a validator or it can be a minimum time lock for the funds.\n",
    "\n"
   ]
  },
  {
   "cell_type": "markdown",
   "id": "9dcae7b8",
   "metadata": {},
   "source": [
    "## Problem statement\n",
    "\n",
    "Current step-by-step algorithm of staking tokens in blockchain Waves can be described the following steps:\n",
    "1. Users do lease transactions to the third-party selected node.\n",
    "2. Node accumulates internal Waves generating balance and node starts validating new blocks and getting rewards by new Waves tokens per block plus all transaction fees of all transactions included in that block.\n",
    "3. A node owner, having access to the newly reward funds, collects them and starts to distribute them via transfer or mass transfer transactions to users who did their leases to his node proportionally to their stake (leased) amount.\n",
    "4. Any time users can do unlease transaction in order to return their locked funds back from the leasing node.\n",
    "\n",
    "Such a scheme has several advantages and disadvantages. \n",
    "\n",
    "The advantages are: \n",
    "1. Users funds are safe, so no one include node owners has an access to them and these assets are protected by consensus algorithm, only user can do unlease transaction and return his funds back.\n",
    "\n",
    "The disadvantages are:\n",
    "1. Users have to reinvest their funds themselves if they want to compound their rewards and increase APY. For that reason they have to do additional lease transactions or they may do both unlease and lease transactions (and spend tx fees).\n",
    "2. Node owners have direct access to their reward funds, that’s why malicious node owners can easily hold the whole reward or its part and not pay users their funds they expect to be paid.\n",
    "3. Node owners have the opportunity to change paying and distributing conditions themselves. Some of the node holders are distributing node rewards once a day, week and even month. Node owners also could change a percent fee that they are holding from reward incomes in order to support the node being working properly.\n",
    "4. Node owners have to make few transfer or mass transfer transactions and spend fees, reducing reward amount.\n",
    "\n",
    "The main disadvantage of such a scheme is that liquidity used in PoS staking is locked. It limits the opportunities of generating higher returns on those assets from the DeFi ecosystem. In case there would be some options to earn better interest in other DeFi projects (landing protocols, swap pools etc.) users have to choose among two options: to stay in Waves staking and get little interest or to unlease Waves amount and invest it to other projects with higher interest. That seems to be capital inefficient because the funds stay frozen in staking while they could be used and traded at the markets.\n"
   ]
  },
  {
   "cell_type": "markdown",
   "id": "2d268fe7",
   "metadata": {},
   "source": [
    "## Proposed solution\n",
    "\n",
    "To resolve all the disadvantages mentioned above Pepe.Team proposes a mechanism of tokenized staking of Waves token. It means a new token is going to be created called SWAVES. The token will be issued and managed by smart contract, minting new SWAVES then users stake their Waves and burning SWAVES when Waves are unstaked.\n",
    "\n",
    "Tokenization (increasing token value) could be implemented by two ways:\n",
    "\n",
    "- Increasing token quantity: users get more SWAVES tokens on their balance after new rewards have been supplied to smart contract. This requires additional smart contract (smart asset) logic. Unfortunately, smart asset tokens are not so widespread among the waves ecosystem and increasing token quantity mechanics are not supported by some DeFi projects in other blockchains too.\n",
    "- Increasing token price to its base token: users get more WAVES tokens when they unstake their SWAVES tokens. Such a model has been selected because SWAVES token may act like a regular token and can be easily traded and even forwarded to other blockchain networks without any restrictions.\n",
    "\n",
    "Users can use SWAVES token for just holding it on their wallets, for transferring to other accounts, for trading SWAVES on DEXes and AMMs, for providing liquidity to swap or lending protocols to gain additional interest income.\n",
    "\n",
    "All the SWAVES logic is designed in smart contracts and implemented in waves blockchain.\n",
    "\n",
    "Proposed step-by-step algorithm of staking tokens via smart contract can be described the following steps:\n",
    "\n",
    "1. Users call `deposit()` function on the SWAVES tokenized staking smart contract and add payment in Waves.\n",
    "2. The smart contract exchanges Waves tokens for SWAVES at internal rate $r_1$, issues new SWAVES and sends it to users. Waves tokens are leased to protocol nodes.\n",
    "3. Protocol Nodes accumulate internal Waves generating balance and start validating new blocks and getting rewards by new Waves tokens per block plus all transaction fees of all transactions included in that block.\n",
    "4. Protocol Nodes have a script on its account with allowance, so only tokenized staking smart contract can claim rewards and restake (reinvest) it. Restake operation increases internal rate.\n",
    "5. Any time users can call `withdraw()` function on the SWAVES tokenized staking smart contract with SWAVES payment added.\n",
    "6. The smart contract exchanges SWAVES tokens for Waves at newly internal rate $r_2$, in order to return users’ funds back from the leasing node.\n",
    "\n",
    "The users’ profit can be calculated as their staked amount multiplied by the difference between $r_2$ and $r_1$, see formula (1). During the staking process SWAVES token can be invested in other DeFi projects so total users’ income can be increased multiple times.\n",
    "\n",
    "$$ 1) \\quad P_{user} = A_{user} \\cdot (r_2 - r_1)$$\n",
    "\n",
    "where $P_{user}$ – user’s profit (in Waves), $A_{user}$ – user’s staked amount (in Waves), $r_1$ – internal smart contract rate, representing the quantity of Waves per 1 SWAVES, at time of user’s `deposit()` call, $r_2$ – internal smart contract rate, representing the quantity of Waves per 1 SWAVES, at time of user’s `withdraw()` call."
   ]
  },
  {
   "cell_type": "markdown",
   "id": "0f574d9a",
   "metadata": {},
   "source": [
    "## Security\n",
    "\n",
    "The security of protocol is the highest priority for PepeTeam since the time of its initial deployment. But still users should investigate smart contract risks themselves before interaction with it. We are constantly working on security improvements:\n",
    "- further DAO implementation;\n",
    "- having audits of smart contracts;\n",
    "- bug bounty program."
   ]
  },
  {
   "cell_type": "markdown",
   "id": "7d43241f",
   "metadata": {},
   "source": [
    "## Decentralization\n",
    "\n",
    "To make waves blockchain more decentralized Waves tokens have to be distributed among more independent waves validating nodes. To achieve that all the Waves leased amount has to be distributed between a lot of independent nodes. Node owners need to have the opportunity to integrate with the SWAVES protocol and get an incentive for network stability supportion. To implement this, DAO mechanism has to be implemented. The algorithm of enabling new validation node can be described the following steps:\n",
    "1. Node owner makes a proposal to the DAO contract and starts a voting process.\n",
    "2. DAO members decide whether a new node owner has to be accepted or rejected.\n",
    "3. In case a new node is accepted, smart contracts start to spread the Waves leasing amount to new validation node working properly. In case of a malicious node owner, who can’t establish node and has no reward generation, such a node owner can be delisted by new DAO decision."
   ]
  },
  {
   "cell_type": "markdown",
   "id": "214c7838",
   "metadata": {},
   "source": [
    "## Implementation\n",
    "\n",
    "The core part of the protocol is developed in tokenized_staking.ride smart contract. The main interface consists of the following functions:\n",
    "1. `deposit()` [with Waves payment] – leases Waves tokens, mints new SWAVES at current internal rate and transfers SWAVES back to invoker. Also triggers the `checkpoint()` function.\n",
    "2. `withdraw()` [with SWAVES payment] – opposite to deposit(), unleases Waves tokens at current internal rate, burns transferred SWAVES and transfers Waves back to invoker. Also triggers the `checkpoint()` function.\n",
    "3. `stake()` [with Waves payment] – supplies a reward to smart contract paid in Waves and leases Waves tokens for reward compounding. Also recalculates internal rate (increases SWAVES value expressed in Waves tokens).\n",
    "4. `checkpoint()` – service function, which performs rewards collection from all the validation nodes in case no one deposits or withdrawals for a long time. If reward exists then it will trigger the `stake()` function.\n",
    "\n",
    "The current internal rate actually means the value of SWAVES expressed in Waves tokens, so rewards are appeared discretely with new successful validated blocks. Malicious users can use that fact to get rewards by making deposits just before reward is supplied to the smart contract, wait little time for `stake()` function to be called and call `withdraw()` to get all Waves tokens back with a part of the reward. Besides, the node generation balance has not been even affected (generation balance is a minimum amount of Waves during the last 1000 blocks). To resist such attacks and ensure the node generation balance has been increased after each `deposit()` every reward has to be distributed not discretely but linearly. Internal rate can be described by the following formula (2):\n",
    "\n",
    "$$ 2) \\quad r = r_{l} + r_{c} \\cdot ( min(h, h_{t}) - h_{l} )$$\n",
    "\n",
    "where $r$ – current internal exchange rate (value of SWAVES in Waves tokens), $r_{l}$ –  last committed internal exchange rate, $r_{c}$ –  current reward per 1 block per 1 SWAVES, $h$ –  current blockchain height, $h_{t}$ –  height, where reward has to be totally distributed, $h_{l}$ –  height of last committed internal exchange rate.\n",
    "\n",
    "Thus tokenized staking distributes all the rewards smoothly, so it’s better for malicious users to stay in staking continuous time to get a maximum reward. After  the node generation balance increases the reward amount also will increase, moreover, all the rewards are autocompounded to maximize users’ profits.\n"
   ]
  },
  {
   "cell_type": "markdown",
   "id": "a693db12",
   "metadata": {},
   "source": [
    "# Contacts\n",
    "\n",
    "- [Telegram](https://t.me/pepe_team)\n",
    "- [Twitter](https://twitter.com/cryptopepeteam)\n",
    "- [Medium](https://crypto-pepe-team.medium.com/)\n",
    "- [YouTube](https://www.youtube.com/@pepe-team)\n",
    "- [GitHub](https://github.com/crypto-pepe)"
   ]
  }
 ],
 "metadata": {
  "kernelspec": {
   "display_name": "Python 3.9.13 64-bit",
   "language": "python",
   "name": "python3"
  },
  "language_info": {
   "codemirror_mode": {
    "name": "ipython",
    "version": 3
   },
   "file_extension": ".py",
   "mimetype": "text/x-python",
   "name": "python",
   "nbconvert_exporter": "python",
   "pygments_lexer": "ipython3",
   "version": "3.9.13"
  },
  "vscode": {
   "interpreter": {
    "hash": "aee8b7b246df8f9039afb4144a1f6fd8d2ca17a180786b69acc140d282b71a49"
   }
  }
 },
 "nbformat": 4,
 "nbformat_minor": 5
}
