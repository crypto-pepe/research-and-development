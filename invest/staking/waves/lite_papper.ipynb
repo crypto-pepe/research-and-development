{
 "cells": [
  {
   "cell_type": "markdown",
   "id": "5408864a-0c65-44fa-a86c-02a9bb83c772",
   "metadata": {
    "tags": []
   },
   "source": [
    "![PepeTeam](https://pepe.team/favicon.ico)\n",
    "# **sWAVES** litepaper\n",
    "###### powered by PepeTeam (@pepenger)"
   ]
  },
  {
   "cell_type": "markdown",
   "id": "65abedbb",
   "metadata": {},
   "source": [
    "## Introduction\n",
    "\n",
    "###### Disclaimer\n",
    "\n",
    ">This paper is for general information purposes only. It does not constitute investment advice, recommendation or solicitation to buy or sell any investment products and should not be used in the evaluation of the merits of making any investment decisions. It should not be relied upon for accounting, legal or tax advice or investment recommendations.\n",
    "\n",
    "Several types of blockchain consensus algorithms have been invented to date. Among them, the most popular are Proof of Work (PoW) and Proof of Stake (PoS). The PoS consensus algorithm is becoming more popular and highly adopted due to its low energy consumption and charcoal pollution, lower requirement for computational power (compared with PoW) etc. The Proof of Stake consensus is based on locking its associated cryptocurrency (ETH in the Ethereum blockchain, WAVES in the Waves blockchain) and selecting block validators in proportion to their share of locked tokens. People who locked their cryptocurrency in the Proof of Stake algorithm are trying to achieve two goals. The first one is to support blockchain stability and sustainability. The second goal is to make profits from newly generated cryptocurrency units as rewards paid per block and gain additional interest from transaction fees included in validated blocks.\n",
    "\n",
    "A mechanism for locking cryptocurrency to blockchain node validators is usually described by its consensus algorithm and often requires additional conditions to make staking available to users. For example, it could be a minimum limit required for being a validator or a minimum period for locking funds.\n",
    "\n"
   ]
  },
  {
   "cell_type": "markdown",
   "id": "9dcae7b8",
   "metadata": {},
   "source": [
    "## Problem statement\n",
    "\n",
    "The current algorithm of staking tokens in the Waves blockchain includes the following steps:\n",
    "1. A user makes a lease transaction to a selected third-party node.\n",
    "2. The node accumulates an internal generating balance and starts validating new blocks. In exchange, the node receives a certain amount of newly minted WAVES tokens per block, plus all fees for transactions included in that block.\n",
    "3. The node owner collects all the rewards and starts to distribute them via transfer or mass transfer transactions to users who leased their tokens to that node, proportionally to their staked (leased) amount.\n",
    "4. At any time, users can make an unlease transaction to get back their locked tokens from the node.\n",
    "\n",
    "This scheme has several advantages and disadvantages.\n",
    "\n",
    "The advantages are: \n",
    "1. Users' funds are safe, as no one, including node owners, has an access to the funds, which are also protected by the consensus algorithm. Only a user can make an unlease transaction and get back their funds.\n",
    "\n",
    "The disadvantages are:\n",
    "1. If users want to compound their rewards and increase their APY, they have to reinvest their funds by themselves. Therefore, they have to make additional lease transactions or even both unlease and lease transactions, paying transaction fees for each of them.\n",
    "2. Node owners have direct access to their reward funds. Therefore, malicious node owners can easily hold on to the whole reward or its part rather than pay stakers what they are owed.\n",
    "3. Node owners can unilaterally change payment and distribution conditions. Some node owners distribute rewards on a daily basis, while others do it once a week and even once a month. Node owners could also change the size of fee that they deduct from the rewards and spend on supporting the node.\n",
    "4. Node owners have to make transfer or mass transfer transactions and spend fees, which reduces reward amounts.\n",
    "\n",
    "The main disadvantage of this scheme is that liquidity used in PoS staking is locked. It limits opportunities for generating higher returns on the locked assets from the DeFi ecosystem. If there are options for earning higher interest in other DeFi projects (landing protocols, swap pools etc.) users have to choose between two options: keep staking their WAVES with lower interest or unlease their tokens and invest them in other projects offering higher interest. That results in poor capital efficiency because the funds stay frozen in staking while they could be used and traded on the market."
   ]
  },
  {
   "cell_type": "markdown",
   "id": "2d268fe7",
   "metadata": {},
   "source": [
    "## Proposed solution\n",
    "\n",
    "To resolve all the disadvantages mentioned above, Pepe.Team proposes a mechanic of tokenized staking of the WAVES token. Under the proposed mechanic, a new token, sWAVES, will be issued and managed by a smart contract. When a user stakes their WAVES, new sWAVES will be minted. When the user unstakes WAVES, their sWAVES will be burned.\n",
    "\n",
    "Tokenization (which increases the token's value) could be implemented in two ways:\n",
    "\n",
    "- Increasing token quantity: users get more sWAVES tokens on their balance after new rewards are sent to a smart contract. This requires additional smart contract (smart asset) logic. Unfortunately, smart asset tokens are not  widely spread in the Waves ecosystem and mechanics for increasing token quantity are not supported by some DeFi projects in other blockchains, either.\n",
    "- Increasing the price of the base token: users get more WAVES tokens when they unstake their sWAVES. This model was chosen because the sWAVES token can operate like a regular token and be easily traded or sent to other blockchains without any restrictions.\n",
    "\n",
    "Users can hold sWAVES tokens in their wallets, transfer to other accounts, trade on DEXes and AMMs, provide liquidity to swapping or lending protocols to gain additional income.\n",
    "\n",
    "The sWAVES logic is designed in smart contracts and implemented in the Waves blockchain.\n",
    "\n",
    "A proposed step-by-step algorithm for staking tokens via a smart contract:\n",
    "\n",
    "1. Users call the `deposit()` function in the sWAVES tokenized staking smart contract with a payment in WAVES.\n",
    "2. The smart contract exchanges WAVES for SWAVES at an internal rate $r_1$, issues new sWAVES and sends them to users. The WAVES tokens are leased to protocol nodes.\n",
    "3. Protocol nodes accumulate the internal WAVES generating balance and start validating new blocks and receiving rewards in new WAVES tokens per block, plus all transaction fees for transactions included in that block.\n",
    "4. Protocol nodes have a script on their account with an allowance, so only a tokenized staking smart contract can claim rewards and restake (reinvest) them. The restake operation increases the internal rate.\n",
    "5. At any time, users can call the `withdraw()` function in the sWAVES tokenized staking smart contract with a payment in sWAVES.\n",
    "6. The smart contract exchanges sWAVES tokens for WAVES at the new internal rate $r_2$, in order to return users’ funds from the leasing node.\n",
    "\n",
    "The users’ profit can be calculated as their staked amount multiplied by the difference between $r_2$ and $r_1$, see formula (1). During the staking process, the sWAVES token can be invested in other DeFi projects, so users’ total income can be increased multiple times.\n",
    "\n",
    "$$ 1) \\quad P_{user} = A_{user} \\cdot (r_2 - r_1)$$\n",
    "\n",
    "where $P_{user}$ – user’s profit (in WAVES), $A_{user}$ – user’s staked amount (in WAVES), $r_1$ – internal smart contract rate, representing the quantity of WAVES per 1 sWAVES, at time of user’s `deposit()` call, $r_2$ – internal smart contract rate, representing the quantity of WAVES per 1 sWAVES, at time of user’s `withdraw()` call."
   ]
  },
  {
   "cell_type": "markdown",
   "id": "0f574d9a",
   "metadata": {},
   "source": [
    "## Security\n",
    "\n",
    "The protocol's security is the highest priority for PepeTeam since the time of its initial deployment. Still, users should independently investigate relevant risks before interaction with smart contracts. We are constantly working on security improvements:\n",
    "- further DAO implementation;\n",
    "- smart contract audits;\n",
    "- a bug bounty program."
   ]
  },
  {
   "cell_type": "markdown",
   "id": "7d43241f",
   "metadata": {},
   "source": [
    "## Decentralization\n",
    "\n",
    "To make the Waves blockchain more decentralized, WAVES tokens have to be distributed between more independent Waves validating nodes. To achieve that, all leased WAVES need to be distributed between multiple independent nodes. Node owners need to have an opportunity to integrate with the sWAVES protocol and get an incentive to support network stability. To implement this, a DAO mechanism has to be implemented. The algorithm of enabling a new validation node is as follows:\n",
    "1. A node owner makes a proposal to the DAO contract and starts a voting process.\n",
    "2. DAO members decide whether a new node owner has to be accepted or rejected.\n",
    "3. If a new node is accepted, smart contracts start to send the WAVES leasing amount to the new validation node that is working properly. In case of a malicious node owner who can’t establish a node and has no reward generation, the node owner can be delisted by a new DAO decision."
   ]
  },
  {
   "cell_type": "markdown",
   "id": "214c7838",
   "metadata": {},
   "source": [
    "## Implementation\n",
    "\n",
    "The core part of the protocol is developed in the tokenized_staking.ride smart contract. The main interface consists of the following functions:\n",
    "1. `deposit()` [with Waves payment] – leases WAVES tokens, mints new sWAVES at the current internal rate and transfers sWAVES back to the invoker. It also triggers the `checkpoint()` function.\n",
    "2. `withdraw()` [with SWAVES payment] – opposite to `deposit()`, unleases WAVES tokens at the current internal rate, burns transferred sWAVES and transfers WAVES back to the invoker. It also triggers the `checkpoint()` function.\n",
    "3. `stake()` [with Waves payment] – sends a reward in WAVES to the smart contract and leases WAVES tokens for reward compounding. It also recalculates an internal rate (increases sWAVES' value expressed in WAVES tokens).\n",
    "4. `checkpoint()` –  a service function that performs rewards collection from all validation nodes in case no one makes deposits or withdrawals for a long period. If a reward exists, it will trigger the `stake()` function.\n",
    "\n",
    "The current internal rate actually means the value of sWAVES expressed in WAVES tokens, so rewards appear discreetly with new successful validated blocks. Malicious users can use that fact to get rewards by making deposits just before a reward is sent to the smart contract, wait for  a little time for the `stake()` function to be called and call `withdraw()` to get all the WAVES tokens back with a portion of the reward. Besides, the node generation balance has not been even affected (the generation balance is a minimum amount of WAVES during the last 1,000 blocks). To resist such attacks and ensure the node's generating balance has been increased after each `deposit()`, every reward has to be distributed linearly rather than not discretely. The internal rate can be described by the following formula (2):\n",
    "\n",
    "$$ 2) \\quad r = r_{l} + r_{c} \\cdot ( min(h, h_{t}) - h_{l} )$$\n",
    "\n",
    "where $r$ – current internal exchange rate (the value of sWAVES in WAVES tokens), $r_{l}$ – last committed internal exchange rate, $r_{c}$ – current reward per 1 block per 1 sWAVES,  $h$ – current blockchain height, $h_{t}$ –  height at which a reward has to be totally distributed, $h_{l}$ – height of the last committed internal exchange rate.\n",
    "\n",
    "Thus, the tokenized staking mechanic distributes all the rewards smoothly, making it better for malicious users to stake their tokens for a long period to get a maximum reward. After the node generation balance increases, the reward amount will also increase. Moreover, all the rewards are automatically compounded to maximize users’ profits.\n"
   ]
  },
  {
   "cell_type": "markdown",
   "id": "a693db12",
   "metadata": {},
   "source": [
    "# Contacts\n",
    "\n",
    "- [Telegram](https://t.me/pepe_team)\n",
    "- [Twitter](https://twitter.com/cryptopepeteam)\n",
    "- [Medium](https://crypto-pepe-team.medium.com/)\n",
    "- [YouTube](https://www.youtube.com/@pepe-team)\n",
    "- [GitHub](https://github.com/crypto-pepe)"
   ]
  }
 ],
 "metadata": {
  "kernelspec": {
   "display_name": "Python 3.9.13 64-bit",
   "language": "python",
   "name": "python3"
  },
  "language_info": {
   "codemirror_mode": {
    "name": "ipython",
    "version": 3
   },
   "file_extension": ".py",
   "mimetype": "text/x-python",
   "name": "python",
   "nbconvert_exporter": "python",
   "pygments_lexer": "ipython3",
   "version": "3.9.13"
  },
  "vscode": {
   "interpreter": {
    "hash": "aee8b7b246df8f9039afb4144a1f6fd8d2ca17a180786b69acc140d282b71a49"
   }
  }
 },
 "nbformat": 4,
 "nbformat_minor": 5
}
